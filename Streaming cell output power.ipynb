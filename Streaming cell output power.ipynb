{
 "metadata": {
  "name": "",
  "signature": "sha256:c950af4028ce102352e6935410edc454c65a483867e0ce13bdd0d54ae3c89109"
 },
 "nbformat": 3,
 "nbformat_minor": 0,
 "worksheets": [
  {
   "cells": [
    {
     "cell_type": "code",
     "collapsed": false,
     "input": [
      "cell_width = 1.0e-2\n",
      "cell_height = 52.0e-6\n",
      "cell_length = 3.0e-2\n",
      "cell_area = cell_width * cell_height\n",
      "conductivity_uScm = 187.0\n",
      "conductivity_uSm = conductivity_uScm / 100.0\n",
      "conductivity_Sm = conductivity_uSm / 1.0e6\n",
      "resistivity = 1.0 / conductivity_Sm\n",
      "\n",
      "print(\"Cell area = {:f}\".format(cell_area))\n",
      "print(\"Conductivity = {:f} S/m\".format(conductivity_Sm))\n",
      "print(\"Water resistivity = {:f} Ohm\".format(resistivity))\n"
     ],
     "language": "python",
     "metadata": {},
     "outputs": [
      {
       "output_type": "stream",
       "stream": "stdout",
       "text": [
        "Cell area = 0.000001\n",
        "Conductivity = 0.000002 S/m\n",
        "Water resistivity = 534759.358289 Ohm\n"
       ]
      }
     ],
     "prompt_number": 13
    },
    {
     "cell_type": "code",
     "collapsed": false,
     "input": [
      "#Resistance = (resistivity * length) / area\n",
      "resistance = (resistivity * cell_length) / cell_area\n",
      "print(\"Cell internal resistance = {:f} Ohm\".format(resistance))\n",
      "giga_ohm = resistance / 1e9\n",
      "print(\"Cell resistance {:f} GOhm\".format(giga_ohm))"
     ],
     "language": "python",
     "metadata": {},
     "outputs": [
      {
       "output_type": "stream",
       "stream": "stdout",
       "text": [
        "Cell internal resistance = 30851501439.736732 Ohm\n",
        "Cell resistance 30.851501 GOhm\n"
       ]
      }
     ],
     "prompt_number": 17
    },
    {
     "cell_type": "code",
     "collapsed": false,
     "input": [],
     "language": "python",
     "metadata": {},
     "outputs": []
    }
   ],
   "metadata": {}
  }
 ]
}