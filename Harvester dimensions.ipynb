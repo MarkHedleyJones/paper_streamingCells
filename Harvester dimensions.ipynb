{
 "metadata": {
  "name": "",
  "signature": "sha256:2e475a925cf73070b562423439e899210c759dbcdf44dc54ce85de50d61a2a5d"
 },
 "nbformat": 3,
 "nbformat_minor": 0,
 "worksheets": [
  {
   "cells": [
    {
     "cell_type": "code",
     "collapsed": false,
     "input": [
      "import math\n",
      "\n",
      "sodium_tap_water_ppm_max = 100\n",
      "sodium_tap_water_ppm_min = 1\n",
      "sodium_tap_water_mg_per_litre_max = sodium_tap_water_ppm_max / 1000.0\n",
      "sodium_tap_water_mg_per_litre_min = sodium_tap_water_ppm_min / 1000.0\n",
      "sodium_tap_water_mg_per_litre_max = 26.0\n",
      "sodium_tap_water_mg_per_litre_min = 2.1\n",
      "print(\"Sodium mg/L min = \" + str(sodium_tap_water_mg_per_litre_min))\n",
      "print(\"Sodium mg/L max = \" + str(sodium_tap_water_mg_per_litre_max))\n",
      "sodium_molar_mass_gram_per_mol = 22.9898\n",
      "sodium_tap_water_mole_per_litre_max = sodium_tap_water_mg_per_litre_max / sodium_molar_mass_gram_per_mol\n",
      "sodium_tap_water_mole_per_litre_min = sodium_tap_water_mg_per_litre_min / sodium_molar_mass_gram_per_mol\n",
      "print(\"Molar concentration of sodium (max) = \" + str(sodium_tap_water_mole_per_litre_max))\n",
      "print(\"Molar concentration of sodium (min) = \" + str(sodium_tap_water_mole_per_litre_min))\n",
      "# 0.1M  -> 1nm debye length\n",
      "# 0.1uM -> 1000nm debye length\n",
      "\n",
      "# debye length proportional to n^(-1/2)\n",
      "def debyeLength_from_molarConcentrtion_monovalentIon(conc):\n",
      "    base_mole = 0.1\n",
      "    base_length = 1e-9\n",
      "\n",
      "    new_mole = conc\n",
      "    new_length = base_length * math.pow(new_mole / base_mole,-0.5)\n",
      "    return new_length\n",
      "\n",
      "debye_min = debyeLength_from_molarConcentrtion_monovalentIon(sodium_tap_water_mole_per_litre_max)\n",
      "debye_max = debyeLength_from_molarConcentrtion_monovalentIon(sodium_tap_water_mole_per_litre_min)\n",
      "\n",
      "print(\"Debye length min = \" + str(debye_min))\n",
      "print(\"Debye length max = \" + str(debye_max))\n",
      "\n",
      "# Debye length should be half the channel height\n",
      "channel_height_max = debye_max * 2.0\n",
      "channel_height_min = debye_min * 2.0\n",
      "\n",
      "print(\"channel height min = \" + str(channel_height_min))\n",
      "print(\"Channel height max = \" + str(channel_height_max))\n",
      "\n",
      "# 10 nm - 100 nm\n"
     ],
     "language": "python",
     "metadata": {},
     "outputs": [
      {
       "output_type": "stream",
       "stream": "stdout",
       "text": [
        "Sodium mg/L min = 2.1\n",
        "Sodium mg/L max = 26.0\n",
        "Molar concentration of sodium (max) = 1.1309363282847176\n",
        "Molar concentration of sodium (min) = 0.09134485728453488\n",
        "Debye length min = 2.9735888702426186e-10\n",
        "Debye length max = 1.0463041531755386e-09\n",
        "channel height min = 5.947177740485237e-10\n",
        "Channel height max = 2.092608306351077e-09\n"
       ]
      }
     ],
     "prompt_number": 18
    },
    {
     "cell_type": "code",
     "collapsed": false,
     "input": [],
     "language": "python",
     "metadata": {},
     "outputs": []
    }
   ],
   "metadata": {}
  }
 ]
}