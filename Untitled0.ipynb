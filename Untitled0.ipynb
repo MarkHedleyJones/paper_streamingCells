{
 "metadata": {
  "name": "",
  "signature": "sha256:5797bd60d0fb5b3b6574ed207f2ba1913022d814aff98a7e6c55ae4b1f95223f"
 },
 "nbformat": 3,
 "nbformat_minor": 0,
 "worksheets": [
  {
   "cells": [
    {
     "cell_type": "code",
     "collapsed": false,
     "input": [
      "def press_loss_MPa(flow_m3_hr)"
     ],
     "language": "python",
     "metadata": {},
     "outputs": []
    }
   ],
   "metadata": {}
  }
 ]
}