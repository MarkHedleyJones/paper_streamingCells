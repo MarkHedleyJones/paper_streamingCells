{
 "metadata": {
  "name": "",
  "signature": "sha256:16b36e0180f76b27b4942b98da2f9919b15e186b9f31dbc002c75c0af36fedf9"
 },
 "nbformat": 3,
 "nbformat_minor": 0,
 "worksheets": [
  {
   "cells": [
    {
     "cell_type": "code",
     "collapsed": false,
     "input": [
      "#With an available house pressure of 35-psi a flow-rate of 10-gpm will produce about 1/8-Hp (approx 90-W!)\n",
      "psi_to_pa = 6894.75\n",
      "gallon_to_litre = 3.785\n",
      "\n",
      "pressure = 241316.505 # Google 35 psi to pa\n",
      "\n",
      "flow_gallon_min = 10\n",
      "flow_litre_min = 10 * gallon_to_litre\n",
      "flow_litre_sec = flow_litre_min / 60\n",
      "flow_m3_sec = flow_l_sec / 1000\n",
      "\n",
      "# Pressure 1/m^2 or kg/(m.s^2)\n",
      "# Power J/s or (N.m)/s or kg.m^2/s^3\n",
      "# Flow L/s\n",
      "print(flow_m3_sec*pressure)"
     ],
     "language": "python",
     "metadata": {},
     "outputs": [
      {
       "output_type": "stream",
       "stream": "stdout",
       "text": [
        "152.2304952375\n"
       ]
      }
     ],
     "prompt_number": 6
    }
   ],
   "metadata": {}
  }
 ]
}