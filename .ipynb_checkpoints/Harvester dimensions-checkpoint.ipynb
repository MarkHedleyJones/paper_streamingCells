{
 "metadata": {
  "name": "",
  "signature": "sha256:09dee2e842f5c800dfcfe3ed2df9f00c617fca3ea060cc53a44c440069a98613"
 },
 "nbformat": 3,
 "nbformat_minor": 0,
 "worksheets": [
  {
   "cells": [
    {
     "cell_type": "code",
     "collapsed": false,
     "input": [
      "import math\n",
      "\n",
      "sodium_tap_water_ppm_max = 100\n",
      "sodium_tap_water_ppm_min = 1\n",
      "sodium_tap_water_mg_per_litre_max = sodium_tap_water_ppm_max / 1000.0\n",
      "sodium_tap_water_mg_per_litre_min = sodium_tap_water_ppm_min / 1000.0\n",
      "sodium_tap_water_mg_per_litre_max = 26.0\n",
      "sodium_tap_water_mg_per_litre_min = 2.1\n",
      "print(\"Sodium mg/L min = \" + str(sodium_tap_water_mg_per_litre_min))\n",
      "print(\"Sodium mg/L max = \" + str(sodium_tap_water_mg_per_litre_max))\n",
      "sodium_molar_mass_gram_per_mol = 22.9898\n",
      "sodium_tap_water_mole_per_litre_max = sodium_tap_water_mg_per_litre_max / sodium_molar_mass_gram_per_mol\n",
      "sodium_tap_water_mole_per_litre_min = sodium_tap_water_mg_per_litre_min / sodium_molar_mass_gram_per_mol\n",
      "print(\"Molar concentration of sodium (max) = \" + str(sodium_tap_water_mole_per_litre_max))\n",
      "print(\"Molar concentration of sodium (min) = \" + str(sodium_tap_water_mole_per_litre_min))\n",
      "# 0.1M  -> 1nm debye length\n",
      "# 0.1uM -> 1000nm debye length\n",
      "\n",
      "# debye length proportional to n^(-1/2)\n",
      "def debyeLength_from_molarConcentrtion_monovalentIon(conc):\n",
      "    base_mole = 0.1\n",
      "    base_length = 1e-9\n",
      "\n",
      "    new_mole = conc\n",
      "    new_length = base_length * math.pow(new_mole / base_mole,-0.5)\n",
      "    return new_length\n",
      "\n",
      "debye_min = debyeLength_from_molarConcentrtion_monovalentIon(sodium_tap_water_mole_per_litre_max)\n",
      "debye_max = debyeLength_from_molarConcentrtion_monovalentIon(sodium_tap_water_mole_per_litre_min)\n",
      "\n",
      "print(\"Debye length min = \" + str(debye_min))\n",
      "print(\"Debye length max = \" + str(debye_max))\n",
      "\n",
      "# Debye length should be half the channel height\n",
      "channel_height_max = debye_max * 2.0\n",
      "channel_height_min = debye_min * 2.0\n",
      "\n",
      "print(\"channel height min = \" + str(channel_height_min))\n",
      "print(\"Channel height max = \" + str(channel_height_max))\n",
      "\n",
      "# 10 nm - 100 nm\n"
     ],
     "language": "python",
     "metadata": {},
     "outputs": [
      {
       "output_type": "stream",
       "stream": "stdout",
       "text": [
        "Sodium mg/L min = 2.1\n",
        "Sodium mg/L max = 26.0\n",
        "Molar concentration of sodium (max) = 1.1309363282847176\n",
        "Molar concentration of sodium (min) = 0.09134485728453488\n",
        "Debye length min = 2.9735888702426186e-10\n",
        "Debye length max = 1.0463041531755386e-09\n",
        "channel height min = 5.947177740485237e-10\n",
        "Channel height max = 2.092608306351077e-09\n"
       ]
      }
     ],
     "prompt_number": 18
    },
    {
     "cell_type": "code",
     "collapsed": false,
     "input": [
      "#\n",
      "channel_height = 71e-6 # um\n",
      "channel_power_output = 1.52e-9 # nW\n",
      "channel_power_input = 539e-3 # mW\n",
      "channel_width = 0.01 # 1cm\n",
      "channel_flow_mlps = 2.05\n",
      "channel_flow_lps = channel_flow_mlps / 1000.0\n",
      "\n",
      "shower_flow_lpm = 7.5\n",
      "shower_flow_lps = 0.125\n",
      "shower_duration = 396.0 # seconds\n",
      "shower_energy_available = 222 # Joules\n",
      "shower_power_available = shower_energy_available / shower_duration\n",
      "print(\"shower_power_available = {:0.2f} W\".format(shower_power_available))\n",
      "\n",
      "power_to_harvest = shower_power_available * 0.01\n",
      "print(\"power_to_harvest = {:0.2e} W\".format(power_to_harvest))\n",
      "pressure_available_kPa = 4.5\n",
      "print(\"pressure_available_kPa = {:0.2f} kPa\".format(pressure_available_kPa))\n"
     ],
     "language": "python",
     "metadata": {},
     "outputs": [
      {
       "output_type": "stream",
       "stream": "stdout",
       "text": [
        "shower_power_available = 0.56 W\n",
        "power_to_harvest = 5.61e-03 W\n",
        "pressure_available_kPa = 4.50 kPa\n"
       ]
      }
     ],
     "prompt_number": 13
    },
    {
     "cell_type": "code",
     "collapsed": false,
     "input": [
      "import scipy.optimize\n",
      "\n",
      "def calc_error(numChannels, thickness):\n",
      "    lengthRequired = 5.6e-3 * (1.0/2.89e-12)\n",
      "    width = lengthRequired / numChannels\n",
      "    return width\n",
      "    \n",
      "print(calc_error(12))"
     ],
     "language": "python",
     "metadata": {},
     "outputs": [
      {
       "output_type": "stream",
       "stream": "stdout",
       "text": [
        "161476355.24798155\n"
       ]
      }
     ],
     "prompt_number": 20
    }
   ],
   "metadata": {}
  }
 ]
}