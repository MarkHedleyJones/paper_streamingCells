{
 "metadata": {
  "name": "",
  "signature": "sha256:7e672de138c0551e28c96e613914f916f72a34d027946903d067d440540cddbc"
 },
 "nbformat": 3,
 "nbformat_minor": 0,
 "worksheets": [
  {
   "cells": [
    {
     "cell_type": "code",
     "collapsed": false,
     "input": [
      "import math\n",
      "\n",
      "sodium_tap_water_ppm_max = 100\n",
      "sodium_tap_water_ppm_min = 1\n",
      "sodium_tap_water_mg_per_litre_max = sodium_tap_water_ppm_max / 1000.0\n",
      "sodium_tap_water_mg_per_litre_min = sodium_tap_water_ppm_min / 1000.0\n",
      "sodium_molar_mass_gram_per_mol = 22.9898\n",
      "sodium_tap_water_mole_per_litre_max = sodium_tap_water_mg_per_litre_max / sodium_molar_mass_gram_per_mol\n",
      "sodium_tap_water_mole_per_litre_min = sodium_tap_water_mg_per_litre_min / sodium_molar_mass_gram_per_mol\n",
      "print(\"Molar concentration of sodium (max) = \" + str(sodium_tap_water_mole_per_litre_max))\n",
      "print(\"Molar concentration of sodium (min) = \" + str(sodium_tap_water_mole_per_litre_min))\n",
      "# 0.1M  -> 1nm debye length\n",
      "# 0.1uM -> 1000nm debye length\n",
      "\n",
      "# debye length proportional to n^(-1/2)\n",
      "def debyeLength_from_molarConcentrtion_monovalentIon(conc):\n",
      "    base_mole = 0.1\n",
      "    base_length = 1e-9\n",
      "\n",
      "    new_mole = conc\n",
      "    new_length = base_length * math.pow(new_mole / base_mole,-0.5)\n",
      "    return new_length\n",
      "\n",
      "debye_min = debyeLength_from_molarConcentrtion_monovalentIon(sodium_tap_water_mole_per_litre_max)\n",
      "debye_max = debyeLength_from_molarConcentrtion_monovalentIon(sodium_tap_water_mole_per_litre_min)\n",
      "\n",
      "print(\"Debye length min = \" + str(debye_min))\n",
      "print(\"Debye length max = \" + str(debye_max))\n",
      "\n",
      "# Debye length should be half the channel height\n",
      "channel_height_max = debye_max * 2.0\n",
      "channel_height_min = debye_min * 2.0\n",
      "\n",
      "print(\"channel height min = \" + str(channel_height_min))\n",
      "print(\"Channel height max = \" + str(channel_height_max))\n",
      "\n",
      "# 10 nm - 100 nm\n"
     ],
     "language": "python",
     "metadata": {},
     "outputs": [
      {
       "output_type": "stream",
       "stream": "stdout",
       "text": [
        "Molar concentration of sodium (max) = 0.004349755108787376\n",
        "Molar concentration of sodium (min) = 4.3497551087873754e-05\n",
        "Debye length min = 4.794767981873576e-09\n",
        "Debye length max = 4.794767981873576e-08\n",
        "channel height min = 9.589535963747151e-09\n",
        "Channel height max = 9.589535963747152e-08\n"
       ]
      }
     ],
     "prompt_number": 16
    },
    {
     "cell_type": "code",
     "collapsed": false,
     "input": [],
     "language": "python",
     "metadata": {},
     "outputs": []
    }
   ],
   "metadata": {}
  }
 ]
}