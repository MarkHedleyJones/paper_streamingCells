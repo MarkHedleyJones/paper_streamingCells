{
 "metadata": {
  "name": "",
  "signature": "sha256:b81e9085a45560c36ca9514428a88be3bca6bdc3bdbb653c7d2c7cdeb7fd2030"
 },
 "nbformat": 3,
 "nbformat_minor": 0,
 "worksheets": []
}