{
 "metadata": {
  "name": "",
  "signature": "sha256:f9518700418a04f1e9ccddc4b63bc9786b240a34715f9fea5420e61f396f9914"
 },
 "nbformat": 3,
 "nbformat_minor": 0,
 "worksheets": [
  {
   "cells": [
    {
     "cell_type": "code",
     "collapsed": false,
     "input": [
      "cell_width = 1.0e-2\n",
      "cell_height = 52.0e-6\n",
      "cell_length = 3.0e-2\n",
      "cell_area = cell_width * cell_height\n",
      "conductivity_uScm = 187.0\n",
      "conductivity_uSm = conductivity_uScm / 100.0\n",
      "conductivity_Sm = conductivity_uSm / 1.0e6\n",
      "resistivity = 1.0 / conductivity_Sm\n",
      "\n",
      "print(\"Cell area = {:f}\".format(cell_area))\n",
      "print(\"Conductivity = {:f} S/m\".format(conductivity_Sm))\n",
      "print(\"Water resistivity = {:f} Ohm\".format(resistivity))\n"
     ],
     "language": "python",
     "metadata": {},
     "outputs": [
      {
       "output_type": "stream",
       "stream": "stdout",
       "text": [
        "Cell area = 0.000001\n",
        "Conductivity = 0.000002 S/m\n",
        "Water resistivity = 534759.358289 Ohm\n"
       ]
      }
     ],
     "prompt_number": 13
    },
    {
     "cell_type": "code",
     "collapsed": false,
     "input": [
      "#Resistance = (resistivity * length) / area\n",
      "resistance = (resistivity * cell_length) / cell_area\n",
      "print(\"Cell internal resistance = {:f} Ohm\".format(resistance))\n",
      "giga_ohm = resistance / 1e9\n",
      "print(\"Cell resistance {:f} GOhm\".format(giga_ohm))"
     ],
     "language": "python",
     "metadata": {},
     "outputs": [
      {
       "output_type": "stream",
       "stream": "stdout",
       "text": [
        "Cell internal resistance = 30851501439.736732 Ohm\n",
        "Cell resistance 30.851501 GOhm\n"
       ]
      }
     ],
     "prompt_number": 17
    },
    {
     "cell_type": "heading",
     "level": 1,
     "metadata": {},
     "source": [
      "Estimation of flow rate"
     ]
    },
    {
     "cell_type": "code",
     "collapsed": false,
     "input": [
      "#Hot tap flow \n",
      "# 15MPa fills 400ml in 8:50\n",
      "flow_400m_per_15MPa = 0.4 / (8*60.0 + 50.0)\n",
      "print(\"Flow is {} L/s at 15MPa\".format(flow_15MPa))\n",
      "flow_resistance = 15.0e6 / flow_15MPa\n",
      "print(\"Flow resistance is {}(Pa.s)/L\".format(flow_resistance))\n"
     ],
     "language": "python",
     "metadata": {},
     "outputs": [
      {
       "output_type": "stream",
       "stream": "stdout",
       "text": [
        "Flow is 0.0007547169811320755 L/s at 15MPa\n",
        "Flow resistance is 19875000000.0(Pa.L)/s\n"
       ]
      }
     ],
     "prompt_number": 5
    }
   ],
   "metadata": {}
  }
 ]
}