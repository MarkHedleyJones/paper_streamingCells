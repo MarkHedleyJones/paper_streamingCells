{
 "metadata": {
  "name": "",
  "signature": "sha256:03a37ff97d2a229f775e493274bb75e54b518d097b1946d54c37bb13753d3db9"
 },
 "nbformat": 3,
 "nbformat_minor": 0,
 "worksheets": [
  {
   "cells": [
    {
     "cell_type": "code",
     "collapsed": false,
     "input": [
      "import matplotlib.pyplot as plt\n",
      "import math\n",
      "import numpy as np\n",
      "from scipy import integrate\n",
      "\n",
      "import sys\n",
      "sys.path.append('/home/mark/Dropbox/University/PhD/Workbench/electrodeInterface/')\n",
      "import lib.plot.formatter\n",
      "lib.plot.formatter.format(style='IEEE')"
     ],
     "language": "python",
     "metadata": {},
     "outputs": [
      {
       "metadata": {},
       "output_type": "pyout",
       "prompt_number": 1,
       "text": [
        "<matplotlib.axes._subplots.AxesSubplot at 0x7f3f2ca2da58>"
       ]
      },
      {
       "metadata": {},
       "output_type": "display_data",
       "png": "[encoded data removed]",
       "text": [
        "<matplotlib.figure.Figure at 0x7f3f2e8adf60>"
       ]
      }
     ],
     "prompt_number": 1
    },
    {
     "cell_type": "markdown",
     "metadata": {},
     "source": [
      "# Toilet\n",
      "* Average number of toilets per house = 1.6\n",
      "* Average number of flushes per person per day = 4.7"
     ]
    },
    {
     "cell_type": "code",
     "collapsed": false,
     "input": [
      "xs = list(range(100))\n",
      "ys = []\n",
      "start = 6\n",
      "end = start+80\n",
      "rate = 15\n",
      "max_flow = 6.0/60.0\n",
      "print(6.0/60.0)\n",
      "def func_toilet(x, start=6, duration=80, rate=15):\n",
      "    end = start + duration\n",
      "    if start < x < start + duration:\n",
      "        val = max_flow-max_flow*math.exp((x-end)/rate)\n",
      "        if val < 0:\n",
      "            val = 0\n",
      "    else:\n",
      "        val = 0\n",
      "    return val\n",
      "i = integrate.quad(func_toilet, 0, 100)\n",
      "print('Total flush volume = {0:0.2f} Litres'.format(i[0]))\n",
      "ys = list(map(func_toilet, xs))\n",
      "plt.plot(xs,ys)\n",
      "plt.show()"
     ],
     "language": "python",
     "metadata": {},
     "outputs": [
      {
       "output_type": "stream",
       "stream": "stdout",
       "text": [
        "0.1\n",
        "Total flush volume = 6.51 Litres\n"
       ]
      },
      {
       "metadata": {},
       "output_type": "display_data",
       "png": "[encoded data removed]",
       "text": [
        "<matplotlib.figure.Figure at 0x7f3f2c337ac8>"
       ]
      }
     ],
     "prompt_number": 2
    },
    {
     "cell_type": "markdown",
     "metadata": {},
     "source": [
      "# Shower\n",
      "* Average duration = 6.6 min\n",
      "* Std deviation = 4.3 min\n",
      "* Median duration = 5.5 min\n",
      "\n",
      "* Average volume = 50 L\n",
      "* Median volume = 40 L\n",
      "* Std deviation = 39 L\n",
      "\n",
      "* Average flow = 8 L/min\n",
      "* Median flow = 7.5 L/min\n",
      "* Std deviation = 3.4 L/min\n",
      "\n",
      "* Average number of showers per person per day = 0.9\n",
      "* Median shower per person per day = 1\n",
      "* Std deviation shower per person per day = 0.6"
     ]
    },
    {
     "cell_type": "code",
     "collapsed": false,
     "input": [
      "flow_rate = 7.5 / 60.0\n",
      "duration = 6.6 * 60.0\n",
      "\n",
      "def func_shower(x, start=100, duration=396.0, flow=0.125):\n",
      "    if start < x < (start + duration):\n",
      "        val = flow\n",
      "    else:\n",
      "        val = 0\n",
      "    return val\n",
      "\n",
      "print(flow_rate * duration)\n",
      "i = integrate.quad(func_shower, 0, 1000)\n",
      "print(i)\n",
      "\n",
      "xs = list(range(1000))\n",
      "ys = list(map(func_shower, xs))\n",
      "plt.plot(xs,ys)\n",
      "plt.show()"
     ],
     "language": "python",
     "metadata": {},
     "outputs": [
      {
       "output_type": "stream",
       "stream": "stdout",
       "text": [
        "49.5\n",
        "(49.50000003129319, 2.0648023930056783e-06)\n"
       ]
      },
      {
       "output_type": "stream",
       "stream": "stderr",
       "text": [
        "/usr/lib/python3.4/site-packages/scipy/integrate/quadpack.py:321: IntegrationWarning: The maximum number of subdivisions (50) has been achieved.\n",
        "  If increasing the limit yields no improvement it is advised to analyze \n",
        "  the integrand in order to determine the difficulties.  If the position of a \n",
        "  local difficulty can be determined (singularity, discontinuity) one will \n",
        "  probably gain from splitting up the interval and calling the integrator \n",
        "  on the subranges.  Perhaps a special-purpose integrator should be used.\n",
        "  warnings.warn(msg, IntegrationWarning)\n"
       ]
      },
      {
       "metadata": {},
       "output_type": "display_data",
       "png": "[encoded data removed]",
       "text": [
        "<matplotlib.figure.Figure at 0x7f3f2c385780>"
       ]
      }
     ],
     "prompt_number": 3
    },
    {
     "cell_type": "markdown",
     "metadata": {},
     "source": [
      "# Washing Machine\n",
      "* Average volume = 122 L\n",
      "* Std deviation = 29.4 L\n",
      "* Washes per week (per house) = 5.6\n",
      "* Washes per day (per house) = 0.8\n",
      "* Flow rate = 8 L/min"
     ]
    },
    {
     "cell_type": "code",
     "collapsed": false,
     "input": [
      "flow_rate = 7.5/60.0\n",
      "start = 100\n",
      "\n",
      "def func_washing(x, start=100, flow=0.133):\n",
      "    cycle1_start = start\n",
      "    cycle1_end = cycle1_start + 8.14*60.0\n",
      "    cycle2_start = cycle1_end + 20*60.0\n",
      "    cycle2_end = cycle2_start + 8.14*60.0\n",
      "    \n",
      "    if cycle1_start < x < cycle1_end:\n",
      "        val = flow_rate\n",
      "    elif cycle2_start < x < cycle2_end:\n",
      "        val = flow_rate\n",
      "    else:\n",
      "        val = 0\n",
      "        \n",
      "    return val\n",
      "\n",
      "i = integrate.quad(func_washing, 0, 3000)\n",
      "print(i)\n",
      "\n",
      "xs = list(range(3000))\n",
      "ys = list(map(func_washing, xs))\n",
      "plt.plot(xs,ys)\n",
      "plt.show()"
     ],
     "language": "python",
     "metadata": {},
     "outputs": [
      {
       "output_type": "stream",
       "stream": "stdout",
       "text": [
        "(122.10165927026192, 0.02871976361418209)\n"
       ]
      },
      {
       "metadata": {},
       "output_type": "display_data",
       "png": "[encoded data removed]",
       "text": [
        "<matplotlib.figure.Figure at 0x7f3f2ca4fb70>"
       ]
      }
     ],
     "prompt_number": 4
    },
    {
     "cell_type": "markdown",
     "metadata": {},
     "source": [
      "# Combining results\n",
      "\n",
      "There are an average of 2.7 people per house\n",
      "Each house does 5.6 loads of washing per week\n",
      "Each person has 0.9 showers per day\n",
      "Each person flushes the toilet 4.7 times per day\n",
      "\n",
      "## 2 person home\n",
      "### per week\n",
      "5 loads of washing\n",
      "   [Wed - 18:00,\n",
      "    Thu - 18:00,\n",
      "    Fri - 18:00,\n",
      "    Sat - 14:00,\n",
      "    Sun - 14:00]\n",
      "### per day\n",
      "2 showers [7:00, 7:10]\n",
      "9 toilet flushes\n",
      "   [6:50,\n",
      "    6:52,\n",
      "    17:40,\n",
      "    17:42,\n",
      "    19:15,\n",
      "    19:17,\n",
      "    21:04,\n",
      "    21:15,\n",
      "    22:16]\n",
      "## 3 person home\n",
      "### per week\n",
      "6 loads of washing\n",
      "   [Tue - 18:00,\n",
      "    Wed - 18:00,\n",
      "    Thu - 18:00,\n",
      "    Fri - 18:00,\n",
      "    Sat - 14:00,\n",
      "    Sun - 14:00]\n",
      "### per day\n",
      "3 showers [7:00, 7:10, 21:00]\n",
      "14 toilet flushes\n",
      "   [6:46,\n",
      "    6:52,\n",
      "    7:12,\n",
      "    17:40,\n",
      "    17:42,\n",
      "    18:11,\n",
      "    19:15,\n",
      "    19:17,\n",
      "    19:46,\n",
      "    19:22,\n",
      "    21:04,\n",
      "    21:15,\n",
      "    22:16,\n",
      "    22:35]"
     ]
    },
    {
     "cell_type": "code",
     "collapsed": false,
     "input": [
      "# 2 Person home\n",
      "washing = {\n",
      "    'Wed': 18 * 60 * 60,\n",
      "    'Thu': 18 * 60 * 60,\n",
      "    'Fri': 18 * 60 * 60,\n",
      "    'Sat': 14 * 60 * 60,\n",
      "    'Sun': 14 * 60 * 60\n",
      "}\n",
      "shower = [7 * 60 * 60, 7 * 60 * 60 + 15 * 60]\n",
      "toilet = [\n",
      "    6 * 60 * 60 + 50 * 60,\n",
      "    6 * 60 * 60 + 52 * 60,\n",
      "    17 * 60 * 60 + 40 * 60,\n",
      "    17 * 60 * 60 + 42 * 60,\n",
      "    19 * 60 * 60 + 15 * 60,\n",
      "    19 * 60 * 60 + 17 * 60,\n",
      "    21 * 60 * 60 + 4 * 60,\n",
      "    21 * 60 * 60 + 15 * 60,\n",
      "]\n",
      "\n",
      "print(shower)\n",
      "\n",
      "#for dow in ['Mon', 'Tue', 'Wed', 'Thu', 'Fri', 'Sat', 'Sun']:\n",
      "flow_profile_litrePerSecond = []\n",
      "time_seconds = []\n",
      "for day, day_of_week in enumerate(['Mon', 'Tue', 'Wed', 'Thu', 'Fri', 'Sat', 'Sun']):\n",
      "    offset = day * 60 * 60 * 24\n",
      "    for second in range(60*60*24):\n",
      "        flow = 0\n",
      "        for time in shower:\n",
      "            flow += func_shower(second, start=time)\n",
      "        for time in toilet:\n",
      "            flow += func_toilet(second, start=time)\n",
      "        if day_of_week in washing:\n",
      "            flow += func_washing(second, start=washing[day_of_week])\n",
      "        flow_profile_litrePerSecond += [flow]\n",
      "        time_seconds += [second + offset]\n",
      "        \n",
      "plt.plot(time_seconds, flow_profile_litrePerSecond)\n",
      "plt.gca().set_ylim(0, 0.2)\n",
      "# plt.gca().set_xlim(330000,340000)\n",
      "plt.show()\n",
      "        \n",
      "    "
     ],
     "language": "python",
     "metadata": {},
     "outputs": [
      {
       "output_type": "stream",
       "stream": "stdout",
       "text": [
        "[25200, 26100]\n"
       ]
      },
      {
       "metadata": {},
       "output_type": "display_data",
       "png": "[encoded data removed]",
       "text": [
        "<matplotlib.figure.Figure at 0x7f3f2c204da0>"
       ]
      }
     ],
     "prompt_number": 5
    },
    {
     "cell_type": "heading",
     "level": 1,
     "metadata": {},
     "source": [
      "Estimation of Pressure Loss"
     ]
    },
    {
     "cell_type": "code",
     "collapsed": false,
     "input": [
      "def pressure_loss_MPa(flow_m3_hour):\n",
      "    # Trend line obtained from fitting a 2-degree polynomial equation to\n",
      "    # points read of the pressure loss graphic.\n",
      "    # Flow is given in m^3/h and pressure is in MPa\n",
      "    return (0.00316*math.pow(flow_m3_hour,2) + 0.00331*flow_m3_hour + 0.00235)\n",
      "    \n",
      "\n",
      "xs = list(np.linspace(0,5,100))\n",
      "ys = list(map(pressure_loss_MPa, xs))\n",
      "plt.clf()\n",
      "plt.gca().set_xlabel('Flow ($m^3/h$)')\n",
      "plt.gca().set_ylabel('Pressure diff MPa')\n",
      "plt.grid()\n",
      "plt.plot(xs,ys)\n",
      "plt.show()"
     ],
     "language": "python",
     "metadata": {},
     "outputs": [
      {
       "metadata": {},
       "output_type": "display_data",
       "png": "[encoded data removed]",
       "text": [
        "<matplotlib.figure.Figure at 0x7f3f2c24a470>"
       ]
      }
     ],
     "prompt_number": 6
    },
    {
     "cell_type": "heading",
     "level": 1,
     "metadata": {},
     "source": [
      "Power harvesting profile"
     ]
    },
    {
     "cell_type": "code",
     "collapsed": false,
     "input": [
      "def convert_litrePerSecond_cubicMeterPerHour(litrePerSec):\n",
      "    litrePerMin = litrePerSec * 60.0\n",
      "    litrePerHour = litrePerMin * 60.0\n",
      "    cubicMeterPerHour = litrePerHour / 1000.0\n",
      "    return cubicMeterPerHour\n",
      "\n",
      "def convert_cubicMeterPerHour_cubicMeterPerSecond(cubicMeterPerHour):\n",
      "    return cubicMeterPerHour / 60.0\n",
      "\n",
      "def convert_MPa_Pa(pressure_MPa):\n",
      "    return pressure_MPa * 1000000.0\n",
      "\n",
      "def calc_power(pressure_Pa, flow_cubicMeterPerSecond):\n",
      "    return flow_cubicMeterPerSecond * pressure_Pa\n",
      "\n",
      "def flow_to_power(flow_litrePerSecond):\n",
      "    flow_cubicMeterPerHour = convert_litrePerSecond_cubicMeterPerHour(flow_litrePerSecond)\n",
      "    flow_cubicMeterPerSecond = convert_cubicMeterPerHour_cubicMeterPerSecond(flow_cubicMeterPerHour)\n",
      "    pressure_MPa = pressure_loss_MPa(flow_cubicMeterPerHour)\n",
      "    power_available = calc_power(convert_MPa_Pa(pressure_MPa), flow_cubicMeterPerSecond)\n",
      "    return power_available\n",
      "\n",
      "power_profile = []\n",
      "for second, flow_litrePerSecond in zip(time_seconds, flow_profile_litrePerSecond):\n",
      "#     flow_cubicMeterPerHour = convert_litrePerSecond_cubicMeterPerHour(flow_litrePerSecond)\n",
      "#     flow_cubicMeterPerSecond = convert_cubicMeterPerHour_cubicMeterPerSecond(flow_cubicMeterPerHour)\n",
      "#     pressure_MPa = pressure_loss_MPa(flow_cubicMeterPerHour)\n",
      "#     pressure_Pa = convert_MPa_Pa(pressure_MPa)\n",
      "#     power_profile.append(power(pressure_Pa, flow_cubicMeterPerSecond))\n",
      "    power_profile.append(flow_to_power(flow_litrePerSecond))\n",
      "    \n",
      "    \n",
      "plt.plot(time_seconds, power_profile)\n",
      "plt.gca().set_xlabel('Time (second of week)')\n",
      "plt.gca().set_ylabel('Power (Watts)')\n",
      "plt.gcf().set_size_inches(10,6)\n",
      "plt.show()"
     ],
     "language": "python",
     "metadata": {},
     "outputs": [
      {
       "metadata": {},
       "output_type": "display_data",
       "png": "[encoded data removed]",
       "text": [
        "<matplotlib.figure.Figure at 0x7f3f2ca60b70>"
       ]
      }
     ],
     "prompt_number": 7
    },
    {
     "cell_type": "heading",
     "level": 1,
     "metadata": {},
     "source": [
      "Energy per item"
     ]
    },
    {
     "cell_type": "code",
     "collapsed": false,
     "input": [
      "## Toilet\n",
      "def power_toilet(time):\n",
      "    return flow_to_power(func_toilet(time))\n",
      "\n",
      "i = integrate.quad(power_toilet, 0, 100)\n",
      "print('Total energy from toilet = {0:0.2f} Joules'.format(i[0]))\n",
      "\n",
      "## Washing Machine\n",
      "def power_washing(time):\n",
      "    return flow_to_power(func_washing(time))\n",
      "\n",
      "i = integrate.quad(power_washing, 0, 100)\n",
      "print('Total energy from washing machine = {0:0.2f} Joules'.format(i[0]))\n"
     ],
     "language": "python",
     "metadata": {},
     "outputs": [
      {
       "output_type": "stream",
       "stream": "stdout",
       "text": [
        "Total energy from toilet = 1459.19 Watt.Seconts\n"
       ]
      }
     ],
     "prompt_number": 8
    }
   ],
   "metadata": {}
  }
 ]
}