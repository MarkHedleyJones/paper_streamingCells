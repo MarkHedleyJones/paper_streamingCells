{
 "metadata": {
  "name": "",
  "signature": "sha256:5cb383f4b79e0a9f04006c39151148fedc7d79aa506688fa746d8a29555c51cd"
 },
 "nbformat": 3,
 "nbformat_minor": 0,
 "worksheets": [
  {
   "cells": [
    {
     "cell_type": "code",
     "collapsed": false,
     "input": [
      "import matplotlib.pyplot as plt\n",
      "import math\n",
      "import numpy as np\n",
      "from scipy import integrate\n",
      "\n",
      "import sys\n",
      "sys.path.append('/home/mark/Dropbox/University/PhD/Workbench/electrodeInterface/')\n",
      "import lib.plot.formatter\n",
      "lib.plot.formatter.format(style='IEEE')"
     ],
     "language": "python",
     "metadata": {},
     "outputs": [
      {
       "ename": "AttributeError",
       "evalue": "'dict' object has no attribute 'iteritems'",
       "output_type": "pyerr",
       "traceback": [
        "\u001b[1;31m---------------------------------------------------------------------------\u001b[0m\n\u001b[1;31mAttributeError\u001b[0m                            Traceback (most recent call last)",
        "\u001b[1;32m<ipython-input-164-05a0cc0a5611>\u001b[0m in \u001b[0;36m<module>\u001b[1;34m()\u001b[0m\n\u001b[0;32m      7\u001b[0m \u001b[0msys\u001b[0m\u001b[1;33m.\u001b[0m\u001b[0mpath\u001b[0m\u001b[1;33m.\u001b[0m\u001b[0mappend\u001b[0m\u001b[1;33m(\u001b[0m\u001b[1;34m'/home/mark/Dropbox/University/PhD/Workbench/electrodeInterface/'\u001b[0m\u001b[1;33m)\u001b[0m\u001b[1;33m\u001b[0m\u001b[0m\n\u001b[0;32m      8\u001b[0m \u001b[1;32mimport\u001b[0m \u001b[0mlib\u001b[0m\u001b[1;33m.\u001b[0m\u001b[0mplot\u001b[0m\u001b[1;33m.\u001b[0m\u001b[0mformatter\u001b[0m\u001b[1;33m\u001b[0m\u001b[0m\n\u001b[1;32m----> 9\u001b[1;33m \u001b[0mlib\u001b[0m\u001b[1;33m.\u001b[0m\u001b[0mplot\u001b[0m\u001b[1;33m.\u001b[0m\u001b[0mformatter\u001b[0m\u001b[1;33m.\u001b[0m\u001b[0mformat\u001b[0m\u001b[1;33m(\u001b[0m\u001b[0mstyle\u001b[0m\u001b[1;33m=\u001b[0m\u001b[1;34m'IEEE'\u001b[0m\u001b[1;33m)\u001b[0m\u001b[1;33m\u001b[0m\u001b[0m\n\u001b[0m",
        "\u001b[1;32m/home/mark/Dropbox/University/PhD/Workbench/electrodeInterface/lib/plot/formatter.py\u001b[0m in \u001b[0;36mformat\u001b[1;34m(subplot, style)\u001b[0m\n\u001b[0;32m     67\u001b[0m     \u001b[0mfig\u001b[0m\u001b[1;33m.\u001b[0m\u001b[0mgca\u001b[0m\u001b[1;33m(\u001b[0m\u001b[1;33m)\u001b[0m\u001b[1;33m.\u001b[0m\u001b[0myaxis\u001b[0m\u001b[1;33m.\u001b[0m\u001b[0mset_ticks_position\u001b[0m\u001b[1;33m(\u001b[0m\u001b[1;34m'left'\u001b[0m\u001b[1;33m)\u001b[0m\u001b[1;33m\u001b[0m\u001b[0m\n\u001b[0;32m     68\u001b[0m \u001b[1;33m\u001b[0m\u001b[0m\n\u001b[1;32m---> 69\u001b[1;33m     \u001b[1;31m# for loc, spine in plt.gca().spines.iteritems():  #For python 2\u001b[0m\u001b[1;33m\u001b[0m\u001b[1;33m\u001b[0m\u001b[0m\n\u001b[0m\u001b[0;32m     70\u001b[0m     \u001b[1;32mfor\u001b[0m \u001b[0mloc\u001b[0m\u001b[1;33m,\u001b[0m \u001b[0mspine\u001b[0m \u001b[1;32min\u001b[0m \u001b[0mlist\u001b[0m\u001b[1;33m(\u001b[0m\u001b[0mplt\u001b[0m\u001b[1;33m.\u001b[0m\u001b[0mgca\u001b[0m\u001b[1;33m(\u001b[0m\u001b[1;33m)\u001b[0m\u001b[1;33m.\u001b[0m\u001b[0mspines\u001b[0m\u001b[1;33m.\u001b[0m\u001b[0miteritems\u001b[0m\u001b[1;33m(\u001b[0m\u001b[1;33m)\u001b[0m\u001b[1;33m)\u001b[0m\u001b[1;33m:\u001b[0m        \u001b[1;31m# For python 3\u001b[0m\u001b[1;33m\u001b[0m\u001b[0m\n\u001b[0;32m     71\u001b[0m         \u001b[1;32mif\u001b[0m \u001b[0mloc\u001b[0m \u001b[1;32min\u001b[0m \u001b[0mplot_params\u001b[0m\u001b[1;33m[\u001b[0m\u001b[1;34m'keepAxis'\u001b[0m\u001b[1;33m]\u001b[0m\u001b[1;33m:\u001b[0m\u001b[1;33m\u001b[0m\u001b[0m\n",
        "\u001b[1;31mAttributeError\u001b[0m: 'dict' object has no attribute 'iteritems'"
       ]
      },
      {
       "metadata": {},
       "output_type": "display_data",
       "text": [
        "<matplotlib.figure.Figure at 0x7f4075585a58>"
       ]
      }
     ],
     "prompt_number": 164
    },
    {
     "cell_type": "markdown",
     "metadata": {},
     "source": [
      "# Toilet\n",
      "* Average number of toilets per house = 1.6\n",
      "* Average number of flushes per person per day = 4.7"
     ]
    },
    {
     "cell_type": "code",
     "collapsed": false,
     "input": [
      "xs = list(range(100))\n",
      "ys = []\n",
      "start = 6\n",
      "end = start+80\n",
      "rate = 15\n",
      "max_flow = 6.0/60.0\n",
      "print(6.0/60.0)\n",
      "def func_toilet(x, start=6, duration=80, rate=15):\n",
      "    end = start + duration\n",
      "    if start < x < start + duration:\n",
      "        val = max_flow-max_flow*math.exp((x-end)/rate)\n",
      "        if val < 0:\n",
      "            val = 0\n",
      "    else:\n",
      "        val = 0\n",
      "    return val\n",
      "i = integrate.quad(func_toilet, 0, 100)\n",
      "print('Total flush volume = {0:0.2f} Litres'.format(i[0]))\n",
      "ys = list(map(func_toilet, xs))\n",
      "plt.plot(xs,ys)\n",
      "plt.show()"
     ],
     "language": "python",
     "metadata": {},
     "outputs": [
      {
       "output_type": "stream",
       "stream": "stdout",
       "text": [
        "0.1\n",
        "Total flush volume = 6.51 Litres\n"
       ]
      },
      {
       "metadata": {},
       "output_type": "display_data",
       "text": [
        "<matplotlib.figure.Figure at 0x7f40755bb7f0>"
       ]
      }
     ],
     "prompt_number": 165
    },
    {
     "cell_type": "markdown",
     "metadata": {},
     "source": [
      "# Shower\n",
      "* Average duration = 6.6 min\n",
      "* Std deviation = 4.3 min\n",
      "* Median duration = 5.5 min\n",
      "\n",
      "* Average volume = 50 L\n",
      "* Median volume = 40 L\n",
      "* Std deviation = 39 L\n",
      "\n",
      "* Average flow = 8 L/min\n",
      "* Median flow = 7.5 L/min\n",
      "* Std deviation = 3.4 L/min\n",
      "\n",
      "* Average number of showers per person per day = 0.9\n",
      "* Median shower per person per day = 1\n",
      "* Std deviation shower per person per day = 0.6"
     ]
    },
    {
     "cell_type": "code",
     "collapsed": false,
     "input": [
      "flow_rate = 7.5 / 60.0\n",
      "duration = 6.6 * 60.0\n",
      "\n",
      "def func_shower(x, start=100, duration=396.0, flow=0.125):\n",
      "    if start < x < (start + duration):\n",
      "        val = flow\n",
      "    else:\n",
      "        val = 0\n",
      "    return val\n",
      "\n",
      "print(flow_rate * duration)\n",
      "i = integrate.quad(func_shower, 0, 1000)\n",
      "print(i)\n",
      "\n",
      "xs = list(range(1000))\n",
      "ys = list(map(func_shower, xs))\n",
      "plt.plot(xs,ys)\n",
      "plt.show()"
     ],
     "language": "python",
     "metadata": {},
     "outputs": [
      {
       "output_type": "stream",
       "stream": "stdout",
       "text": [
        "49.5\n",
        "(49.50000003129319, 2.0648023930056783e-06)\n"
       ]
      },
      {
       "metadata": {},
       "output_type": "display_data",
       "png": "[encoded data removed]",
       "text": [
        "<matplotlib.figure.Figure at 0x7f406b65a4a8>"
       ]
      }
     ],
     "prompt_number": 126
    },
    {
     "cell_type": "markdown",
     "metadata": {},
     "source": [
      "# Washing Machine\n",
      "* Average volume = 122 L\n",
      "* Std deviation = 29.4 L\n",
      "* Washes per week (per house) = 5.6\n",
      "* Washes per day (per house) = 0.8\n",
      "* Flow rate = 8 L/min"
     ]
    },
    {
     "cell_type": "code",
     "collapsed": false,
     "input": [
      "flow_rate = 7.5/60.0\n",
      "start = 100\n",
      "\n",
      "def func_washing(x, start=100, flow=0.133):\n",
      "    cycle1_start = start\n",
      "    cycle1_end = cycle1_start + 8.14*60.0\n",
      "    cycle2_start = cycle1_end + 20*60.0\n",
      "    cycle2_end = cycle2_start + 8.14*60.0\n",
      "    \n",
      "    if cycle1_start < x < cycle1_end:\n",
      "        val = flow_rate\n",
      "    elif cycle2_start < x < cycle2_end:\n",
      "        val = flow_rate\n",
      "    else:\n",
      "        val = 0\n",
      "        \n",
      "    return val\n",
      "\n",
      "i = integrate.quad(func_washing, 0, 3000)\n",
      "print(i)\n",
      "\n",
      "xs = list(range(3000))\n",
      "ys = list(map(func_washing, xs))\n",
      "plt.plot(xs,ys)\n",
      "plt.show()"
     ],
     "language": "python",
     "metadata": {},
     "outputs": [
      {
       "output_type": "stream",
       "stream": "stdout",
       "text": [
        "(122.10165927026192, 0.02871976361418209)\n"
       ]
      },
      {
       "metadata": {},
       "output_type": "display_data",
       "png": "[encoded data removed]",
       "text": [
        "<matplotlib.figure.Figure at 0x7f407407e978>"
       ]
      }
     ],
     "prompt_number": 148
    },
    {
     "cell_type": "markdown",
     "metadata": {},
     "source": [
      "# Combining results\n",
      "\n",
      "There are an average of 2.7 people per house\n",
      "Each house does 5.6 loads of washing per week\n",
      "Each person has 0.9 showers per day\n",
      "Each person flushes the toilet 4.7 times per day\n",
      "\n",
      "## 2 person home\n",
      "### per week\n",
      "5 loads of washing\n",
      "   [Wed - 18:00,\n",
      "    Thu - 18:00,\n",
      "    Fri - 18:00,\n",
      "    Sat - 14:00,\n",
      "    Sun - 14:00]\n",
      "### per day\n",
      "2 showers [7:00, 7:10]\n",
      "9 toilet flushes\n",
      "   [6:50,\n",
      "    6:52,\n",
      "    17:40,\n",
      "    17:42,\n",
      "    19:15,\n",
      "    19:17,\n",
      "    21:04,\n",
      "    21:15,\n",
      "    22:16]\n",
      "## 3 person home\n",
      "### per week\n",
      "6 loads of washing\n",
      "   [Tue - 18:00,\n",
      "    Wed - 18:00,\n",
      "    Thu - 18:00,\n",
      "    Fri - 18:00,\n",
      "    Sat - 14:00,\n",
      "    Sun - 14:00]\n",
      "### per day\n",
      "3 showers [7:00, 7:10, 21:00]\n",
      "14 toilet flushes\n",
      "   [6:46,\n",
      "    6:52,\n",
      "    7:12,\n",
      "    17:40,\n",
      "    17:42,\n",
      "    18:11,\n",
      "    19:15,\n",
      "    19:17,\n",
      "    19:46,\n",
      "    19:22,\n",
      "    21:04,\n",
      "    21:15,\n",
      "    22:16,\n",
      "    22:35]"
     ]
    },
    {
     "cell_type": "code",
     "collapsed": false,
     "input": [
      "# 2 Person home\n",
      "washing = {\n",
      "    'Wed': 18 * 60 * 60,\n",
      "    'Thu': 18 * 60 * 60,\n",
      "    'Fri': 18 * 60 * 60,\n",
      "    'Sat': 14 * 60 * 60,\n",
      "    'Sun': 14 * 60 * 60\n",
      "}\n",
      "shower = [7 * 60 * 60, 7 * 60 * 60 + 15 * 60]\n",
      "toilet = [\n",
      "    6 * 60 * 60 + 50 * 60,\n",
      "    6 * 60 * 60 + 52 * 60,\n",
      "    17 * 60 * 60 + 40 * 60,\n",
      "    17 * 60 * 60 + 42 * 60,\n",
      "    19 * 60 * 60 + 15 * 60,\n",
      "    19 * 60 * 60 + 17 * 60,\n",
      "    21 * 60 * 60 + 4 * 60,\n",
      "    21 * 60 * 60 + 15 * 60,\n",
      "]\n",
      "\n",
      "print(shower)\n",
      "\n",
      "#for dow in ['Mon', 'Tue', 'Wed', 'Thu', 'Fri', 'Sat', 'Sun']:\n",
      "ys = []\n",
      "xs = []\n",
      "for day, day_of_week in enumerate(['Mon', 'Tue', 'Wed', 'Thu', 'Fri', 'Sat', 'Sun']):\n",
      "    offset = day * 60 * 60 * 24\n",
      "    for second in range(60*60*24):\n",
      "        flow = 0\n",
      "        for time in shower:\n",
      "            flow += func_shower(second, start=time)\n",
      "        for time in toilet:\n",
      "            flow += func_toilet(second, start=time)\n",
      "        if day_of_week in washing:\n",
      "            flow += func_washing(second, start=washing[day_of_week])\n",
      "        ys += [flow]\n",
      "        xs += [second + offset]\n",
      "        \n",
      "plt.plot(xs, ys)\n",
      "plt.gca().set_ylim(0, 0.2)\n",
      "# plt.gca().set_xlim(330000,340000)\n",
      "plt.show()\n",
      "        \n",
      "    "
     ],
     "language": "python",
     "metadata": {},
     "outputs": [
      {
       "output_type": "stream",
       "stream": "stdout",
       "text": [
        "[25200, 26100]\n"
       ]
      },
      {
       "metadata": {},
       "output_type": "display_data",
       "png": "[encoded data removed]",
       "text": [
        "<matplotlib.figure.Figure at 0x7f406b66d4a8>"
       ]
      }
     ],
     "prompt_number": 157
    }
   ],
   "metadata": {}
  }
 ]
}