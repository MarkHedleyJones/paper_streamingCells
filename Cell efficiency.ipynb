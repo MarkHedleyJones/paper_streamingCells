{
 "metadata": {
  "name": "",
  "signature": "sha256:48df174b53b28ce6634592fd3028d047b4f72aa14f3ef29f6c211448468f7efd"
 },
 "nbformat": 3,
 "nbformat_minor": 0,
 "worksheets": [
  {
   "cells": [
    {
     "cell_type": "code",
     "collapsed": false,
     "input": [
      "cell_fluid_pressure_kPa = 260\n",
      "cell_fluid_pressure_Pa = cell_fluid_pressure_kPa * 1000.0\n",
      "print(\"Fluid pressure = \" + str(cell_fluid_pressure_Pa))\n",
      "cell_period_400ml = 3*60+13\n",
      "cell_period_litre = (cell_period_400ml / 400.0) * 1000.0\n",
      "print(\"Period for 1 litre = \" + str(cell_period_litre))\n",
      "cell_flow_lps = 1.0/cell_period_litre\n",
      "print(\"Flow rate (litre per second) = \" + str(cell_flow_lps))\n",
      "cell_flow_m3s = cell_flow_lps / 1000.0\n",
      "print(\"Flow rate (cubic meter per second) = \" + str(cell_flow_m3s))\n",
      "cell_power_input = cell_flow_m3s * cell_fluid_pressure_Pa\n",
      "print(\"Cell input power (Watt) = \" + str(cell_power))\n",
      "cell_voltage = 0.182\n",
      "cell_current = 33.5e-9\n",
      "cell_power_output = cell_voltage * cell_current\n",
      "print(\"Cell output power (Watt) = \" + str(cell_power_output))\n",
      "cell_efficiency = cell_power_output / cell_power_input\n",
      "print(\"Cell conversion efficiency = \" + str(cell_efficiency * 100.0) + \"%\")"
     ],
     "language": "python",
     "metadata": {},
     "outputs": [
      {
       "output_type": "stream",
       "stream": "stdout",
       "text": [
        "Fluid pressure = 260000.0\n",
        "Period for 1 litre = 482.5\n",
        "Flow rate (litre per second) = 0.002072538860103627\n",
        "Flow rate (cubic meter per second) = 2.072538860103627e-06\n",
        "Cell input power (Watt) = 0.538860103626943\n",
        "Cell output power (Watt) = 6.097e-09\n",
        "Cell conversion efficiency = 1.1314624999999998e-06%\n"
       ]
      }
     ],
     "prompt_number": 18
    }
   ],
   "metadata": {}
  }
 ]
}